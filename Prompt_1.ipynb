{
  "nbformat": 4,
  "nbformat_minor": 0,
  "metadata": {
    "colab": {
      "provenance": [],
      "authorship_tag": "ABX9TyNHnmBtscGjeBtJSyG7HB2V",
      "include_colab_link": true
    },
    "kernelspec": {
      "name": "python3",
      "display_name": "Python 3"
    },
    "language_info": {
      "name": "python"
    }
  },
  "cells": [
    {
      "cell_type": "markdown",
      "metadata": {
        "id": "view-in-github",
        "colab_type": "text"
      },
      "source": [
        "<a href=\"https://colab.research.google.com/github/Josue-Martinez10/Dev2/blob/main/Prompt_1.ipynb\" target=\"_parent\"><img src=\"https://colab.research.google.com/assets/colab-badge.svg\" alt=\"Open In Colab\"/></a>"
      ]
    },
    {
      "cell_type": "code",
      "execution_count": null,
      "metadata": {
        "colab": {
          "base_uri": "https://localhost:8080/"
        },
        "id": "G7lYPbqG_ey-",
        "outputId": "c065a212-ec8f-4d32-d07f-a4763aa8ccd0"
      },
      "outputs": [
        {
          "output_type": "stream",
          "name": "stdout",
          "text": [
            "🤖: Welcome to Acme Customer Support — where your problems become slightly less problematic!\n",
            "🤖: What seems to be the trouble today? Don't worry, I’ve got my digital cape on. 🦸‍♂️\n",
            "👤: order\n",
            "🤖: Processing your issue with the power of a thousand hamsters on treadmills... 🐹💨\n",
            "🤖: Your order is currently traveling through space and time. 📦🚀 Let me check its coordinates...\n",
            "🤖: Can I assist you with anything else, or shall I return to my nap in the cloud? ☁️😴\n",
            "👤: nothing\n",
            "🤖: Thanks for contacting Acme Support! You’ve been a lovely human. 💙 May your Wi-Fi be strong and your coffee stronger. ☕️\n"
          ]
        }
      ],
      "source": [
        "def funny_customer_service():\n",
        "\n",
        "    print(\"🤖: Welcome to Acme Customer Support — where your problems become slightly less problematic!\")\n",
        "\n",
        "\n",
        "    print(\"🤖: What seems to be the trouble today? Don't worry, I’ve got my digital cape on. 🦸‍♂️\")\n",
        "    issue = input(\"👤: \").lower()\n",
        "\n",
        "\n",
        "    print(\"🤖: Processing your issue with the power of a thousand hamsters on treadmills... 🐹💨\")\n",
        "\n",
        "    if \"billing\" in issue:\n",
        "        print(\"🤖: A wild billing error appears! 🧾 I cast 'Refundicus Maximus'. You should see a change shortly!\")\n",
        "    elif \"technical\" in issue or \"tech\" in issue:\n",
        "        print(\"🤖: Have you tried turning it off and on again? It works 99% of the time... 60% of the time. 💻🔁\")\n",
        "    elif \"order\" in issue or \"shipping\" in issue:\n",
        "        print(\"🤖: Your order is currently traveling through space and time. 📦🚀 Let me check its coordinates...\")\n",
        "    else:\n",
        "        print(\"🤖: Hmm, that's a mystery wrapped in a riddle. 🕵️ Can you give me a bit more info?\")\n",
        "\n",
        "    print(\"🤖: Can I assist you with anything else, or shall I return to my nap in the cloud? ☁️😴\")\n",
        "    more_help = input(\"👤: \").lower()\n",
        "\n",
        "    if \"no\" in more_help or \"that's it\" in more_help or \"nothing\" in more_help:\n",
        "\n",
        "        print(\"🤖: Thanks for contacting Acme Support! You’ve been a lovely human. 💙 May your Wi-Fi be strong and your coffee stronger. ☕️\")\n",
        "    else:\n",
        "        print(\"🤖: Fantastic! Hit me with your next problem like you're throwing a pie at a clown. 🎯🥧\")\n",
        "\n",
        "funny_customer_service()\n"
      ]
    }
  ]
}