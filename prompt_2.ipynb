{
  "nbformat": 4,
  "nbformat_minor": 0,
  "metadata": {
    "colab": {
      "provenance": [],
      "authorship_tag": "ABX9TyNZ6Q2jX+rGGe0QBvPZybrx",
      "include_colab_link": true
    },
    "kernelspec": {
      "name": "python3",
      "display_name": "Python 3"
    },
    "language_info": {
      "name": "python"
    }
  },
  "cells": [
    {
      "cell_type": "markdown",
      "metadata": {
        "id": "view-in-github",
        "colab_type": "text"
      },
      "source": [
        "<a href=\"https://colab.research.google.com/github/Josue-Martinez10/Dev2/blob/main/prompt_2.ipynb\" target=\"_parent\"><img src=\"https://colab.research.google.com/assets/colab-badge.svg\" alt=\"Open In Colab\"/></a>"
      ]
    },
    {
      "cell_type": "code",
      "execution_count": null,
      "metadata": {
        "colab": {
          "base_uri": "https://localhost:8080/"
        },
        "id": "j_9gEq6e_ghX",
        "outputId": "5b79d187-4b60-406d-97e1-7fb5d3d524a9"
      },
      "outputs": [
        {
          "output_type": "stream",
          "name": "stdout",
          "text": [
            "🤖: Welcome to Acme Customer Support — where your problems become slightly less problematic!\n",
            "🤖: What seems to be the trouble today? Don’t worry, I’ve got my digital cape on. 🦸‍♂️\n",
            "👤: billing\n",
            "🤖: Let me analyze that with my top-tier artificial brain... 🧠💭\n",
            "🤖 (thinking): The user mentioned billing, so this is likely a payment issue.\n",
            "🤖: A wild billing error appears! 🧾 I cast 'Refundicus Maximus'. You should see a change shortly!\n",
            "🤖: Can I assist you with anything else, or shall I return to my nap in the cloud? ☁️😴\n",
            "👤: nothing\n",
            "🤖 (thinking): The user is done and doesn’t need more help.\n",
            "🤖: Thanks for contacting Acme Support! You’ve been a lovely human. 💙 May your Wi-Fi be strong and your coffee stronger. ☕️\n"
          ]
        }
      ],
      "source": [
        "def funny_customer_service_with_reasoning():\n",
        "\n",
        "    print(\"🤖: Welcome to Acme Customer Support — where your problems become slightly less problematic!\")\n",
        "\n",
        "\n",
        "    print(\"🤖: What seems to be the trouble today? Don’t worry, I’ve got my digital cape on. 🦸‍♂️\")\n",
        "    issue_input = input(\"👤: \").lower()\n",
        "\n",
        "\n",
        "    print(\"🤖: Let me analyze that with my top-tier artificial brain... 🧠💭\")\n",
        "\n",
        "    def reason_about_issue(issue):\n",
        "        if \"billing\" in issue:\n",
        "            reasoning = \"The user mentioned billing, so this is likely a payment issue.\"\n",
        "            response = \"A wild billing error appears! 🧾 I cast 'Refundicus Maximus'. You should see a change shortly!\"\n",
        "        elif \"technical\" in issue or \"tech\" in issue:\n",
        "            reasoning = \"The user is experiencing a technical issue, possibly with a device or app.\"\n",
        "            response = \"Have you tried turning it off and on again? It works 99% of the time... 60% of the time. 💻🔁\"\n",
        "        elif \"order\" in issue or \"shipping\" in issue:\n",
        "            reasoning = \"User wants to know about their order or delivery. Time to fetch tracking info!\"\n",
        "            response = \"Your order is currently traveling through space and time. 📦🚀 Let me check its coordinates...\"\n",
        "        else:\n",
        "            reasoning = \"Couldn’t confidently determine the issue. Asking for more detail.\"\n",
        "            response = \"Hmm, that's a mystery wrapped in a riddle. 🕵️ Can you give me a bit more info?\"\n",
        "        return reasoning, response\n",
        "\n",
        "    reasoning, response = reason_about_issue(issue_input)\n",
        "    print(f\"🤖 (thinking): {reasoning}\")\n",
        "    print(f\"🤖: {response}\")\n",
        "\n",
        "\n",
        "    print(\"🤖: Can I assist you with anything else, or shall I return to my nap in the cloud? ☁️😴\")\n",
        "    more_help_input = input(\"👤: \").lower()\n",
        "\n",
        "\n",
        "    def reason_about_closure(reply):\n",
        "        if any(kw in reply for kw in [\"no\", \"nothing\", \"that's it\", \"nah\"]):\n",
        "            reasoning = \"The user is done and doesn’t need more help.\"\n",
        "            response = \"Thanks for contacting Acme Support! You’ve been a lovely human. 💙 May your Wi-Fi be strong and your coffee stronger. ☕️\"\n",
        "        else:\n",
        "            reasoning = \"User still has another question or issue.\"\n",
        "            response = \"Fantastic! Hit me with your next problem like you're throwing a pie at a clown. 🎯🥧\"\n",
        "        return reasoning, response\n",
        "\n",
        "    closing_reasoning, closing_response = reason_about_closure(more_help_input)\n",
        "    print(f\"🤖 (thinking): {closing_reasoning}\")\n",
        "    print(f\"🤖: {closing_response}\")\n",
        "\n",
        "# Run the chatbot\n",
        "funny_customer_service_with_reasoning()\n"
      ]
    }
  ]
}