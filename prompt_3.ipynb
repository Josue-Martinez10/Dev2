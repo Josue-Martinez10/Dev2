{
  "nbformat": 4,
  "nbformat_minor": 0,
  "metadata": {
    "colab": {
      "provenance": [],
      "authorship_tag": "ABX9TyOJfmdV6ghIFP2CnjW8CGMB",
      "include_colab_link": true
    },
    "kernelspec": {
      "name": "python3",
      "display_name": "Python 3"
    },
    "language_info": {
      "name": "python"
    }
  },
  "cells": [
    {
      "cell_type": "markdown",
      "metadata": {
        "id": "view-in-github",
        "colab_type": "text"
      },
      "source": [
        "<a href=\"https://colab.research.google.com/github/Josue-Martinez10/Dev2/blob/main/prompt_3.ipynb\" target=\"_parent\"><img src=\"https://colab.research.google.com/assets/colab-badge.svg\" alt=\"Open In Colab\"/></a>"
      ]
    },
    {
      "cell_type": "code",
      "execution_count": 5,
      "metadata": {
        "colab": {
          "base_uri": "https://localhost:8080/"
        },
        "id": "06ptSxF2_hUh",
        "outputId": "d44138d5-eef5-40dd-dfa3-e5d01bcf9d5f"
      },
      "outputs": [
        {
          "output_type": "stream",
          "name": "stdout",
          "text": [
            "🤖: Welcome to Acme Support — where your problems become slightly less problematic!\n",
            "🤖: What can I help you with today?\n",
            "   1. Billing Issue\n",
            "   2. Technical Support\n",
            "   3. Order or Shipping\n",
            "   4. Something else\n",
            "👤 Please enter the number of your issue: 3\n",
            "🤖 (thinking): User asked about order or shipping — they probably want tracking info.\n",
            "🤖: Your order is currently traveling through space and time. 📦🚀 Let me check its coordinates...\n",
            "🤖: Is there anything else I can assist you with?\n",
            "👤: no\n",
            "🤖 (thinking): The user indicated they're done.\n",
            "🤖: Thanks for contacting Acme Support! You’ve been a lovely human. 💙 May your Wi-Fi be strong and your coffee stronger. ☕️\n"
          ]
        }
      ],
      "source": [
        "import difflib\n",
        "\n",
        "# --- Responses mapped to issue types ---\n",
        "RESPONSES = {\n",
        "    \"billing\": {\n",
        "        \"reasoning\": \"The user selected billing — likely a payment, invoice, or charge issue.\",\n",
        "        \"response\": \"A wild billing error appears! 🧾 I cast 'Refundicus Maximus'. You should see a change shortly!\"\n",
        "    },\n",
        "    \"technical\": {\n",
        "        \"reasoning\": \"The user is facing a technical issue, possibly involving devices or software.\",\n",
        "        \"response\": \"Have you tried turning it off and on again? It works 99% of the time... 60% of the time. 💻🔁\"\n",
        "    },\n",
        "    \"order\": {\n",
        "        \"reasoning\": \"User asked about order or shipping — they probably want tracking info.\",\n",
        "        \"response\": \"Your order is currently traveling through space and time. 📦🚀 Let me check its coordinates...\"\n",
        "    },\n",
        "    \"other\": {\n",
        "        \"reasoning\": \"The user selected 'Other', so this might require more details.\",\n",
        "        \"response\": \"Hmm, that's a mystery wrapped in a riddle. 🕵️ Can you describe the issue in more detail?\"\n",
        "    }\n",
        "}\n",
        "\n",
        "# --- Option menu ---\n",
        "OPTIONS = {\n",
        "    \"1\": \"billing\",\n",
        "    \"2\": \"technical\",\n",
        "    \"3\": \"order\",\n",
        "    \"4\": \"other\"\n",
        "}\n",
        "\n",
        "# --- Memory simulation ---\n",
        "session = {\n",
        "    \"user_issue\": None,\n",
        "    \"follow_up\": False\n",
        "}\n",
        "\n",
        "def fuzzy_match_intent(text):\n",
        "    keywords = {\n",
        "        \"billing\": [\"billing\", \"payment\", \"invoice\", \"charged\"],\n",
        "        \"technical\": [\"technical\", \"tech\", \"error\", \"problem\", \"crash\", \"bug\"],\n",
        "        \"order\": [\"order\", \"shipping\", \"delivery\", \"package\", \"tracking\"]\n",
        "    }\n",
        "\n",
        "    words = text.lower().split()\n",
        "    for intent, triggers in keywords.items():\n",
        "        for word in words:\n",
        "            matches = difflib.get_close_matches(word, triggers, cutoff=0.7)\n",
        "            if matches:\n",
        "                return intent\n",
        "    return \"other\"\n",
        "\n",
        "def get_user_issue():\n",
        "    print(\"🤖: What can I help you with today?\")\n",
        "    print(\"   1. Billing Issue\")\n",
        "    print(\"   2. Technical Support\")\n",
        "    print(\"   3. Order or Shipping\")\n",
        "    print(\"   4. Something else\")\n",
        "\n",
        "    for attempt in range(3):\n",
        "        choice = input(\"👤 Please enter the number of your issue: \").strip()\n",
        "        if choice in OPTIONS:\n",
        "            return OPTIONS[choice]\n",
        "        else:\n",
        "            print(\"🤖: I couldn’t quite understand that. Try entering 1, 2, 3, or 4.\")\n",
        "\n",
        "    print(\"🤖: Too many tries! I'm calling in a human (probably named Bob). 🧍‍♂️\")\n",
        "    return \"other\"\n",
        "\n",
        "def handle_issue(intent):\n",
        "    data = RESPONSES[intent]\n",
        "    print(f\"🤖 (thinking): {data['reasoning']}\")\n",
        "    print(f\"🤖: {data['response']}\")\n",
        "\n",
        "def ask_follow_up():\n",
        "    print(\"🤖: Is there anything else I can assist you with?\")\n",
        "    response = input(\"👤: \").lower()\n",
        "\n",
        "    if any(kw in response for kw in [\"no\", \"nothing\", \"that's it\", \"nah\"]):\n",
        "        print(\"🤖 (thinking): The user indicated they're done.\")\n",
        "        print(\"🤖: Thanks for contacting Acme Support! You’ve been a lovely human. 💙 May your Wi-Fi be strong and your coffee stronger. ☕️\")\n",
        "    else:\n",
        "        print(\"🤖 (thinking): The user might have another issue.\")\n",
        "        print(\"🤖: Fantastic! Throw your next problem at me like you're tossing socks at laundry day. 🧦🎯\")\n",
        "        run_chat(restarted=True)\n",
        "\n",
        "def run_chat(restarted=False):\n",
        "    if not restarted:\n",
        "        print(\"🤖: Welcome to Acme Support — where your problems become slightly less problematic!\")\n",
        "\n",
        "    intent = get_user_issue()\n",
        "    session['user_issue'] = intent\n",
        "    handle_issue(intent)\n",
        "    ask_follow_up()\n",
        "\n",
        "# --- Run the chatbot ---\n",
        "if __name__ == \"__main__\":\n",
        "    run_chat()\n"
      ]
    }
  ]
}